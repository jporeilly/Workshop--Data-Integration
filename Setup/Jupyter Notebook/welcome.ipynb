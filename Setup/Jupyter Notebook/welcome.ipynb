{
 "cells": [
  {
   "cell_type": "markdown",
   "metadata": {},
   "source": [
    "### Welcome to Jupyter Data Science Environment\n",
    "\n",
    "This is your data science workspace with Jupyter Lab. The environment comes pre-configured with essential data science packages.\n",
    "\n",
    "#### Access Information\n",
    "- **Jupyter Lab URL**: http://localhost:8888\n",
    "- **Token**: datascience\n",
    "\n",
    "#### Available Directories\n",
    "- **datasets/** - Sample datasets for your analysis\n",
    "- **notebooks/** - Your Jupyter notebooks\n",
    "- **pdi-output/** - Output files from Pentaho Data Integration\n",
    "- **reports/** - Workspace for your data and analysis\n",
    "- **workshop-data/** - Workspace for your data and analysis\n",
    "\n",
    "#### Getting Started\n",
    "1. Open a terminal in the `scripts` directory\n",
    "2. Run: `.\\run-docker-jupyter.ps1 start`\n",
    "3. Access Jupyter Lab at: http://localhost:8888/lab"
   ]
  },
  {
   "cell_type": "code",
   "execution_count": null,
   "metadata": {},
   "outputs": [],
   "source": [
    "# Check Python and package versions\n",
    "import sys\n",
    "import pandas as pd\n",
    "import numpy as np\n",
    "\n",
    "print(f\"Python version: {sys.version}\\\n",
    "\\n\" +\n",
    "      f\"Pandas version: {pd.__version__}\\\n",
    "\" +\n",
    "      f\"NumPy version: {np.__version__}\")"
   ]
  },
  {
   "cell_type": "markdown",
   "metadata": {},
   "source": [
    "#### Need Help?\n",
    "If you encounter any issues, please refer to the documentation or contact support."
   ]
  }
 ],
 "metadata": {
  "kernelspec": {
   "display_name": "Python 3 (ipykernel)",
   "language": "python",
   "name": "python3"
  },
  "language_info": {
   "codemirror_mode": {
    "name": "ipython",
    "version": 3
   },
   "file_extension": ".py",
   "mimetype": "text/x-python",
   "name": "python",
   "nbconvert_exporter": "python",
   "pygments_lexer": "ipython3",
   "version": "3.11.6"
  }
 },
 "nbformat": 4,
 "nbformat_minor": 4
}
