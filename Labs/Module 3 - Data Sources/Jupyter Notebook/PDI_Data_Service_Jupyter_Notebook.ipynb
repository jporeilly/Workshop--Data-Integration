{
 "cells": [
  {
   "cell_type": "code",
   "execution_count": null,
   "metadata": {},
   "outputs": [],
   "source": [
    "#import modules that will assist in working with local filesystem to get to PDI Data Service Client Jars\n",
    "import os\n",
    "from os import listdir\n",
    "from os.path import isfile, join\n",
    "import pandas as pd"
   ]
  },
  {
   "cell_type": "code",
   "execution_count": null,
   "metadata": {},
   "outputs": [],
   "source": [
    "#Create a variable and assign the path of the pdi-dataservice-client folder within your Pentaho installation\n",
    "#and another variable to store path and name of all of the required PDI Data Service Client Jar files\n",
    "jdbc_dir=\"/opt/pentaho/design-tools/data-integration/Data Service JDBC Driver/pdi-dataservice-client\"\n",
    "jdbc_jars=['{}/{}'.format(jdbc_dir, f) for f in listdir(jdbc_dir) if isfile(join(jdbc_dir, f))]"
   ]
  },
  {
   "cell_type": "code",
   "execution_count": null,
   "metadata": {},
   "outputs": [],
   "source": [
    "#Call the CLASSPATH environment variable, if does not exist create the envrionment variable\n",
    "os.environ['CLASSPATH'] = \"\"\n",
    "javapath = os.environ['CLASSPATH']\n",
    "for x in jdbc_jars:\n",
    "    javapath+= ':' + x\n",
    "    \n",
    "os.environ['CLASSPATH'] = javapath\n",
    "print(os.environ['CLASSPATH'])\n",
    "import jaydebeapi"
   ]
  },
  {
   "cell_type": "code",
   "execution_count": null,
   "metadata": {},
   "outputs": [],
   "source": [
    "conn = jaydebeapi.connect(jclassname=\"org.pentaho.di.trans.dataservice.jdbc.ThinDriver\",\n",
    "url = \"jdbc:pdi://localhost:8080/kettle?webappname=pentaho\", driver_args= ['admin', 'password'],jars=jdbc_jars)"
   ]
  },
  {
   "cell_type": "code",
   "execution_count": null,
   "metadata": {},
   "outputs": [],
   "source": [
    "curs = conn.cursor()\n",
    "curs.execute(\"SELECT * FROM PDI_Data_Service_JupyterNotebook\")\n",
    "cols = [desc[0] for desc in curs.description]\n",
    "records = curs.fetchall()"
   ]
  },
  {
   "cell_type": "code",
   "execution_count": null,
   "metadata": {},
   "outputs": [],
   "source": [
    "df = pd.DataFrame(records, columns = cols)"
   ]
  },
  {
   "cell_type": "code",
   "execution_count": null,
   "metadata": {},
   "outputs": [],
   "source": [
    "df"
   ]
  },
  {
   "cell_type": "code",
   "execution_count": null,
   "metadata": {},
   "outputs": [],
   "source": [
    "# learn a scikit-learn classifier\n",
    "import pandas as pd\n",
    "import numpy as np\n",
    "from sklearn.tree import DecisionTreeClassifier\n",
    "from sklearn import tree\n",
    "from sklearn.externals import joblib\n",
    "import os\n",
    "\n",
    "\n",
    "# extract training columns and class column\n",
    "X=df.iloc[:,[2,3,4]].values\n",
    "Y=df.iloc[:,[5]].values\n",
    "\n",
    "print(X)\n",
    "print(Y)\n",
    "\n",
    "\n",
    "\n"
   ]
  },
  {
   "cell_type": "code",
   "execution_count": null,
   "metadata": {},
   "outputs": [],
   "source": [
    "# build a decision tree\n",
    "\n",
    "dt = tree.DecisionTreeClassifier(class_weight=None, criterion='gini', max_depth=None,\n",
    "            max_features=None, max_leaf_nodes=None,\n",
    "            min_impurity_decrease=0.0, min_impurity_split=None,\n",
    "            min_samples_leaf=1, min_samples_split=2,\n",
    "            min_weight_fraction_leaf=0.0, presort=False, random_state=None,\n",
    "            splitter='best')\n",
    "\n",
    "dt.fit(X,Y)\n",
    "\n",
    "\n",
    "\n"
   ]
  },
  {
   "cell_type": "code",
   "execution_count": null,
   "metadata": {},
   "outputs": [],
   "source": [
    "#mke a temp, pressure and rpm failure prediction\n",
    "\n",
    "#temp failure > 150\n",
    "prediction = dt.predict([[151, 500,1406]]) \n",
    "print(prediction) \n",
    "\n",
    "#pressure failure > 600\n",
    "prediction = dt.predict([[145, 601,1406]]) \n",
    "print(prediction) \n",
    "\n",
    "#rpm failure predction > 1500\n",
    "prediction = dt.predict([[140, 500,1502]]) \n",
    "print(prediction) \n",
    "\n",
    "#no failure prediction\n",
    "prediction = dt.predict([[140, 450,1402]]) \n",
    "print(prediction) "
   ]
  },
  {
   "cell_type": "code",
   "execution_count": null,
   "metadata": {},
   "outputs": [],
   "source": [
    "import graphviz \n",
    "import pydotplus\n",
    "import collections\n",
    "\n",
    "# Visualize data\n",
    "data_feature_names = [ 'temperature', 'pressure', 'rpm' ]\n",
    "dot_data = tree.export_graphviz(dt,\n",
    "                                feature_names=data_feature_names,\n",
    "                                out_file=None,\n",
    "                                filled=True,\n",
    "                                rounded=True)\n",
    "graph = pydotplus.graph_from_dot_data(dot_data)\n",
    "\n",
    "colors = ('turquoise', 'orange')\n",
    "edges = collections.defaultdict(list)\n",
    "\n",
    "for edge in graph.get_edge_list():\n",
    "    edges[edge.get_source()].append(int(edge.get_destination()))\n",
    "\n",
    "for edge in edges:\n",
    "    edges[edge].sort()    \n",
    "    for i in range(2):\n",
    "        dest = graph.get_node(str(edges[edge][i]))[0]\n",
    "        dest.set_fillcolor(colors[i])\n",
    "\n",
    "graph.write_png('/home/demouser/tree.png')"
   ]
  },
  {
   "cell_type": "code",
   "execution_count": null,
   "metadata": {},
   "outputs": [],
   "source": [
    "from IPython.display import Image\n",
    "Image('/home/demouser/tree.png')"
   ]
  },
  {
   "cell_type": "code",
   "execution_count": null,
   "metadata": {},
   "outputs": [],
   "source": [
    "#Next step can be to utilize model management via outputting model to file\n",
    "\n",
    "# save the model\n",
    "filename='file:///home/demouser/utils/JupyterNotebook/decisiontreeclassifier_jupyter.model'\n",
    "joblib.dump(dt,filename)\n"
   ]
  },
  {
   "cell_type": "code",
   "execution_count": null,
   "metadata": {},
   "outputs": [],
   "source": []
  }
 ],
 "metadata": {
  "kernelspec": {
   "display_name": "Python 3",
   "language": "python",
   "name": "python3"
  },
  "language_info": {
   "codemirror_mode": {
    "name": "ipython",
    "version": 2
   },
   "file_extension": ".py",
   "mimetype": "text/x-python",
   "name": "python",
   "nbconvert_exporter": "python",
   "pygments_lexer": "ipython2",
   "version": "2.7.12"
  }
 },
 "nbformat": 4,
 "nbformat_minor": 2
}
